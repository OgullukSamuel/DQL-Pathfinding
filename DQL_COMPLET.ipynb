{
  "nbformat": 4,
  "nbformat_minor": 0,
  "metadata": {
    "accelerator": "GPU",
    "colab": {
      "name": "DQN COMPLET.ipynb",
      "provenance": [],
      "collapsed_sections": [],
      "toc_visible": true
    },
    "kernelspec": {
      "display_name": "Python 3",
      "name": "python3"
    },
    "language_info": {
      "name": "python"
    }
  },
  "cells": [
    {
      "cell_type": "markdown",
      "metadata": {
        "id": "iDbLFhIdkUG6"
      },
      "source": [
        "# **Import**"
      ]
    },
    {
      "cell_type": "code",
      "metadata": {
        "colab": {
          "base_uri": "https://localhost:8080/"
        },
        "id": "Pvq9DCTvkUG_",
        "outputId": "c60509df-8d82-4184-95ec-5de00d9bd972"
      },
      "source": [
        "import os\n",
        "import h5py\n",
        "import turtle\n",
        "import random\n",
        "import matplotlib\n",
        "import numpy as np\n",
        "import pandas as pd\n",
        "import tensorflow as tf\n",
        "from itertools import count\n",
        "import matplotlib.pyplot as plt\n",
        "from collections import namedtuple\n",
        "from math import cos, sin, radians , exp, sqrt\n",
        "print(\"GPUs : \", tf.config.list_physical_devices('GPU'))"
      ],
      "execution_count": 235,
      "outputs": [
        {
          "output_type": "stream",
          "text": [
            "GPUs :  [PhysicalDevice(name='/physical_device:GPU:0', device_type='GPU')]\n"
          ],
          "name": "stdout"
        }
      ]
    },
    {
      "cell_type": "code",
      "metadata": {
        "id": "7xdt0HqakUHA"
      },
      "source": [
        "is_ipython = 'inline' in matplotlib.get_backend()\n",
        "if is_ipython: from IPython import display"
      ],
      "execution_count": 236,
      "outputs": []
    },
    {
      "cell_type": "markdown",
      "metadata": {
        "id": "PG7VSWXxkUHA"
      },
      "source": [
        "#**Ce qu'il me reste à faire :**"
      ]
    },
    {
      "cell_type": "markdown",
      "metadata": {
        "id": "yWqMrh4qkUHB"
      },
      "source": [
        "*   **WIP :** Changer le support Render() Turtle vers autre librairie\n",
        "\n",
        "*   **WIP :** optimiser le programme( surtout l'environnement) et fusionner les classes pouvant l'être\n",
        "\n",
        "*   **WIP :** Utiliser le GPU voir TPU si possible\n",
        "\n",
        "*   **WIP :** débloquer l'implementation des obstacles\n",
        "\n",
        "*   **WIP :** généraliser le programme"
      ]
    },
    {
      "cell_type": "markdown",
      "metadata": {
        "id": "vqhUJ46z7aWp"
      },
      "source": [
        "# **Paramètres**"
      ]
    },
    {
      "cell_type": "code",
      "metadata": {
        "id": "NGGhmBsfJc-P",
        "colab": {
          "base_uri": "https://localhost:8080/"
        },
        "outputId": "490a8465-8cf0-481b-8b11-4f92adc07cfc"
      },
      "source": [
        "class para:\n",
        "    \"\"\"\n",
        "    Classe de tous les paramètres modifiables\n",
        "    \"\"\"\n",
        "        # paramètres d'agent :      \n",
        "    episodes = 700                      # nombre d'épisode d'entrainement\n",
        "\n",
        "    dueling = True                      # True si mise en place de double dueling networks\n",
        "    tau_update=True\t\t\t            # True si je veux soft update du réseau cible\n",
        "    dir=\"model\"\t\t\t\t            # fichier où j'enregistre le modèle\n",
        "    save = False\t\t\t            # True si je veux enregistrer le modèle\n",
        "    modeload = False\t\t\t        # True si je veux charger un modèle contenu dans dir\n",
        "\n",
        "        # données de compilation\n",
        "    LearningRate = 1e-3\t\t\t\t\t\t\t\t\t\t                                    # rythme d'apprentissage\n",
        "    opti=tf.keras.optimizers.RMSprop(learning_rate=LearningRate, rho=0.95, epsilon=0.01)    \t# optimiseur , le meilleur testé est [RMSprop(lr=self.learning_rate, rho=0.95, epsilon=0.01]\n",
        "    loss=tf.keras.losses.CategoricalCrossentropy()                                          \t# perte et métrique , le meilleur testé est CategoricalCrossEntropy\n",
        "    metrique=[tf.keras.metrics.CategoricalCrossentropy()]                                   \t\n",
        "    initializer= tf.keras.initializers.HeUniform()\t\t\t\t\t\t\t                        # fonction d'initialisation des poids et biais au départ\n",
        "\n",
        "        # exploration ou exploitation\n",
        "    eps_st = 1\t\t\t\t\t\t\t\t\t\t\t# valeur d'exploration/ exploitation au départ\n",
        "    eps_end = 0.01\t\t\t\t\t\t\t\t\t\t# valeur d'exploration/ exploitation à la fin\n",
        "    eps_decay = 0.001\t\t\t\t\t\t\t\t\t# vitesse à laquelle l'algorithme passe d'explorateur à exploiteur\n",
        "\n",
        "        # gestion du target+Memoire\n",
        "    target_update = 16                  \t# nombre de tour entre chaque actualisation du target net ( si soft update est désactivé )\n",
        "    memory_size = 20000                  \t# taille de la Replay memory\n",
        "    batch_size = 64                     \t# taille du batch de Replay memory sur lequel j'entraine le modèle à chaque tour\n",
        "    batchsize = 32                      \t# taille du batch avec lequel j'utilise la fonction fit\n",
        "    tau=0.1\t\t\t\t\t                # valeur de soft update\n",
        "    PER_epsi = 0.01\t\t\t\t            # valeurs servant à définir la perte pour choisir les données sur lesquelles entrainer l'algorithme\n",
        "    PER_alpha = 0.6\t\t\t\t            #\n",
        "\n",
        "        #variables d'environnement : \n",
        "    renderfull=False                    \t# True fait en sorte que je puisse voir en temps réel le chemin\n",
        "    render = False\n",
        "    gamma = 0.999                       \t# taux de diminution de la récompense\n",
        "\n",
        "    A = [0,0]\t\t\t\t\t\t\t\t# position de A ( toujours au centre du repaire )\n",
        "    B = [10,0]\t\t\t\t\t\t\t\t# position de B\n",
        "    size= [(abs(B[0])+abs(B[1]))*2+2,(abs(B[0])+abs(B[1]))*2+2,2]\t# taille de l'environnement ( ne pas faire varier sauf si ajout d'obstacles )\n",
        "    astar = (2**(6*int(np.log10(sqrt(B[0]**2 + B[1]**2)) )))-1\t\t# définition du nombre de tour où j'utilise A star au départ\n",
        "    print(astar)\n",
        "    print(size)\n",
        "\n",
        "    def_step = 400                      \t# le nombre maximal de pas authorisé par tour\n",
        "        \n",
        "    obstacles = [[20,-56],[120,12]]\t\t# position des obstacles ( pour l'instant ils sont désactivés )\n",
        "    obstacles_size = [50,30]\t\t\t# taille des obstacles\n",
        "\n",
        "        \n",
        "        #données de l'agent\n",
        "    limit = (B[0]**2 + B[1]**2)*4       \t# la limite de distance au carré \n",
        "    actionspace = 4                     \t# me donne le nombre de déplacements possibles ( 4 = 90 °) 360/nb = nb de degré de delta\n",
        "    j = 1                               \t# la taille des pas de l'agent\n",
        "\n",
        "        #données d'apprentissage/ de visulisation des données\n",
        "\n",
        "    nb_objets=2                         \t# le nombre d'objets différents (turtle,obstacle,pointB,A,etc) ( désactivé pour l'instant )\n",
        "    M = 5                               \t# j'aurai la moyenne des M derniers nombres mouvements sur le plot\n",
        "    M2 = 20                             \t# j'aurai la proportion des M2 dernières fins réelles sur le plot"
      ],
      "execution_count": 237,
      "outputs": [
        {
          "output_type": "stream",
          "text": [
            "63\n",
            "[22, 22, 2]\n"
          ],
          "name": "stdout"
        }
      ]
    },
    {
      "cell_type": "markdown",
      "metadata": {
        "id": "VlL0zMo756Bx"
      },
      "source": [
        "# **Matplot**"
      ]
    },
    {
      "cell_type": "code",
      "metadata": {
        "id": "ZkGOTMQHJ3hQ"
      },
      "source": [
        "def plot (values,period,what):\n",
        "    \"\"\"\n",
        "    sert à afficher les données de façon clean\n",
        "    \"\"\"\n",
        "    if what == 0 : \n",
        "        if is_ipython: display.clear_output(wait=True)\n",
        "    plt.figure(2)\n",
        "    plt.clf()\n",
        "    if what ==0:\n",
        "        plt.title(\"Training\")\n",
        "        plt.xlabel(\"Episode\")\n",
        "        plt.ylabel(\"Duration\")\n",
        "    elif what==1:\n",
        "        plt.title(\"Evaluation des fins réelles\")\n",
        "        plt.xlabel(\"Episode\")\n",
        "        plt.ylabel(\"statut de la fin\")\n",
        "    plt.plot(values)\n",
        "\n",
        "    moving_avg = get_moving_average(values,period)\n",
        "    \n",
        "    plt.plot(moving_avg)\n",
        "    plt.pause(0.001)\n",
        "    return moving_avg\n",
        "\n",
        "def get_moving_average(valeurs,period):\n",
        "    if len(valeurs)>= period:\n",
        "        return np.insert(pd.Series(valeurs).rolling(window=period).mean().iloc[period-1:].values,0,[0]*(period-1))\n",
        "    else:\n",
        "        return np.zeros(len(valeurs))"
      ],
      "execution_count": 238,
      "outputs": []
    },
    {
      "cell_type": "markdown",
      "metadata": {
        "id": "isalDx5N6vN8"
      },
      "source": [
        "# **Classe DQN**"
      ]
    },
    {
      "cell_type": "code",
      "metadata": {
        "id": "HyO_1VkHJJiK"
      },
      "source": [
        "class DQN(tf.Module):  \n",
        "    \"\"\"\n",
        "    création d'un réseau de neurone profond \n",
        "    \"\"\"\n",
        "    def __init__(self,inputnb,actionspace,ler,named,dir,opti,lossing,metrique,dueling,tau,tau_update,initializer):\n",
        "        self.tau_update=tau_update\n",
        "        self.dueling=dueling\n",
        "        self.TAU = tau\n",
        "        if not dueling:\n",
        "            self.model = tf.keras.Sequential([\n",
        "            tf.keras.layers.Conv2D(filters=3,kernel_size=2, strides=1, activation='relu',input_shape=(inputnb[0],inputnb[1],inputnb[2])),\n",
        "            tf.keras.layers.MaxPool2D(pool_size=2, strides=1, padding='valid'),\n",
        "            tf.keras.layers.PRelu(),\n",
        "            tf.keras.layers.Conv2D(filters=2,kernel_size=2, strides=2, activation='relu'),\n",
        "            tf.keras.layers.MaxPool2D(pool_size=2, strides=2, padding='valid'),\n",
        "            tf.keras.layers.PReLU(),\n",
        "            tf.keras.layers.Flatten(),\n",
        "            tf.keras.layers.Dense(1024,activation=\"elu\", kernel_initializer=initializer),\n",
        "            tf.keras.layers.Dense(512, activation=\"elu\", kernel_initializer=initializer),\n",
        "            tf.keras.layers.Dense(256, activation='elu', kernel_initializer=initializer),\n",
        "            tf.keras.layers.Dense(128, activation='elu', kernel_initializer=initializer),\n",
        "            tf.keras.layers.Dense(64,  activation='elu', kernel_initializer=initializer),\n",
        "            tf.keras.layers.Dense(32,  activation='elu', kernel_initializer=initializer),\n",
        "            tf.keras.layers.Dense(actionspace, activation='linear', kernel_initializer=initializer)])\n",
        "\n",
        "            self.model.compile(optimizer=opti, loss=lossing, metrics=metrique)\n",
        "            self.model.summary()\n",
        "        else:\n",
        "            input=tf.keras.layers.Input(shape=inputnb,name=\"Input\")\n",
        "\n",
        "            convo = tf.keras.Sequential([\n",
        "                tf.keras.layers.Conv2D(filters=3,kernel_size=2, strides=1, activation=\"relu\",input_shape=(inputnb[0],inputnb[1],inputnb[2])),\n",
        "                tf.keras.layers.MaxPool2D(pool_size=2, strides=1, padding=\"valid\"),\n",
        "                tf.keras.layers.Conv2D(filters=2,kernel_size=2, strides=2, activation=\"relu\"),\n",
        "                tf.keras.layers.MaxPool2D(pool_size=2, strides=2, padding=\"valid\"),\n",
        "                tf.keras.layers.PReLU(),\n",
        "                tf.keras.layers.Flatten(),\n",
        "                tf.keras.layers.Dense(1024,activation=\"relu\", kernel_initializer=initializer)],name=\"Convolution\")(input)\n",
        "\n",
        "            value_net = tf.keras.Sequential([\n",
        "                tf.keras.layers.Dense(128,activation=\"relu\", kernel_initializer=initializer),\n",
        "                tf.keras.layers.Dense(1, kernel_initializer=initializer),\n",
        "                tf.keras.layers.Lambda(lambda s: tf.keras.backend.expand_dims(s[:, 0], -1),output_shape=(actionspace,))],name=\"Value_network\")(convo)\n",
        "\n",
        "            advantage_net = tf.keras.Sequential([ \n",
        "                tf.keras.layers.Dense(128, activation=\"relu\", kernel_initializer=initializer),\n",
        "                tf.keras.layers.Dense(actionspace, kernel_initializer=initializer),\n",
        "                tf.keras.layers.Lambda(lambda a: a[:, :] - tf.keras.backend.mean(a[:, :], keepdims=True),output_shape=(actionspace,))],name=\"Advantage_network\")(convo)\n",
        "\n",
        "            add = tf.keras.layers.Add()([value_net, advantage_net])\n",
        "            output = tf.keras.layers.Dense(actionspace, kernel_initializer=initializer)(add)\n",
        "\n",
        "            self.model = tf.keras.Model(input, output,name=named)\n",
        "            self.model.compile(optimizer=opti, loss=lossing, metrics=metrique)\n",
        "            tf.keras.utils.plot_model(self.model, to_file='réseau.png')\n",
        "            self.model.summary()\n",
        "\n",
        "        if not os.path.exists(dir): os.makedirs(dir)\n",
        "        self.saveplace = os.path.join(dir,named+\".h5\") \n",
        "\n",
        "    def tautransfer(self,policy_model):\n",
        "        if not self.tau_update:\n",
        "            self.transfer(policy_model)\n",
        "        else:\n",
        "            q_model_theta = policy_model.get_weights()\n",
        "            target_model_theta = self.model.get_weights()\n",
        "            i = 0\n",
        "            for q_weight, target_weight in zip(q_model_theta, target_model_theta):\n",
        "                target_weight = target_weight * (1-self.TAU) + q_weight * self.TAU\n",
        "                target_model_theta[i] = target_weight\n",
        "                i += 1\n",
        "            self.model.set_weights(target_model_theta)\n",
        "\n",
        "    def transfer(self,model):\n",
        "        self.model.set_weights(model.get_weights())\n",
        "\n",
        "    def fitting(self,target_net,gammaparam,batchsize,memory,batch_size):\n",
        "        experiences = memory.sample(batchsize)\n",
        "        states, actions, rewards , next_states, dones = extract_tensors(list(zip(*experiences))[1])\n",
        "\n",
        "        target = tf.squeeze(self.model.predict(states)).numpy()\n",
        "        target_next = tf.squeeze(self.model.predict(next_states)).numpy()\n",
        "        target_val = tf.squeeze(target_net.predict(next_states)).numpy()\n",
        "\n",
        "        erreur = np.zeros(batchsize)\n",
        "        for i in range(batchsize):\n",
        "            val = target[i][actions[i]]\n",
        "            if dones[i]: target[i][actions[i]] = rewards[i]\n",
        "            else:target[i][actions[i]] = gammaparam * target_val[i][np.argmax(target_next[i])] + rewards[i]\n",
        "            erreur[i] = abs(val - target[i][actions[i]])\n",
        "        \n",
        "        for i in range(param.batch_size):\n",
        "            idx = experiences[i][0]\n",
        "            memory.update(idx, erreur[i])\n",
        "    \n",
        "        self.model.fit(states, tf.constant(target), batch_size=batch_size,sample_weight=None,verbose=0, epochs=3)\n",
        "        \n",
        "    \n",
        "    def load(self):\n",
        "        print(\"------------CHARGEMENT MODELE------------\")\n",
        "        try:\n",
        "            self.model = tf.keras.models.load_model(self.saveplace)\n",
        "            print(\"--------------MODELE CHARGE--------------\")\n",
        "        except Exception as ex: print(\"échec du chargement : \",ex)\n",
        "\n",
        "    def save(self):\n",
        "        print(\"----------ENREGISTREMENT MODELE----------\")\n",
        "        try: \n",
        "            self.model.save(self.saveplace) \n",
        "            print(\"------------MODELE ENREGISTRE------------\")\n",
        "        except Exception as ex: print(\"échec de l'enregistrement : \",ex)"
      ],
      "execution_count": 239,
      "outputs": []
    },
    {
      "cell_type": "markdown",
      "metadata": {
        "id": "m1E3gfzp6oI4"
      },
      "source": [
        "# **Experience et arbre binaire**\n"
      ]
    },
    {
      "cell_type": "code",
      "metadata": {
        "id": "m5Pl5aKuJUft"
      },
      "source": [
        "Experience = namedtuple(\"Experience\",(\"state\",\"action\",\"reward\",\"next_state\",\"done\"))"
      ],
      "execution_count": 240,
      "outputs": []
    },
    {
      "cell_type": "code",
      "metadata": {
        "id": "Ht3_ngBYJUkY"
      },
      "source": [
        "class SumTree:\n",
        "    write = 0\n",
        "    \"\"\"\n",
        "    crée un arbre binaire (bibliothèque venant de Github)\n",
        "    \"\"\"\n",
        "    def __init__(self, capacity):\n",
        "        self.capacity = capacity\n",
        "        self.tree = np.zeros(2*capacity - 1)\n",
        "        self.data = np.zeros(capacity, dtype=object)\n",
        "\n",
        "    def _propagate(self, idx, change):\n",
        "        parent = (idx - 1)//2\n",
        "        self.tree[parent] += change\n",
        "        if parent != 0: self._propagate(parent, change)\n",
        "\n",
        "    def _retrieve(self, idx, s):\n",
        "        left = 2 * idx + 1\n",
        "        right = left + 1\n",
        "        if left >= len(self.tree): return idx\n",
        "        if s <= self.tree[left]: return self._retrieve(left, s)\n",
        "        else: return self._retrieve(right, s-self.tree[left])\n",
        "\n",
        "    def add(self, p, data):\n",
        "        idx = self.write + self.capacity - 1\n",
        "        self.data[self.write] = data\n",
        "        self.update(idx, p)\n",
        "        self.write += 1\n",
        "        if self.write >= self.capacity: self.write = 0\n",
        "\n",
        "    def update(self, idx, p):\n",
        "        change = p - self.tree[idx]\n",
        "        self.tree[idx] = p\n",
        "        self._propagate(idx, change)\n",
        "\n",
        "    def get(self, s):\n",
        "        idx = self._retrieve(0, s)\n",
        "        dataIdx = idx - self.capacity + 1\n",
        "        return (idx, self.tree[idx], self.data[dataIdx])"
      ],
      "execution_count": 241,
      "outputs": []
    },
    {
      "cell_type": "markdown",
      "metadata": {
        "id": "VGx-VR5HJUkY"
      },
      "source": [
        "# **Mémoire**"
      ]
    },
    {
      "cell_type": "code",
      "metadata": {
        "id": "TRYb6mEnJUkZ"
      },
      "source": [
        "class Replay_memory():\n",
        "    \"\"\"\n",
        "    Je gère la mémoire \n",
        "    \"\"\"\n",
        "    def __init__(self,capa,a,e):\n",
        "        self.tree = SumTree(capa)\n",
        "        self.e = e\n",
        "        self.a = a\n",
        "\n",
        "    def add(self, experience, policynet, targetnet,gamma):\n",
        "        state, action, reward , next_state, done = extract_tensors([experience])\n",
        "\n",
        "        target = policynet(state).numpy()\n",
        "        target_next = policynet(next_state).numpy()\n",
        "        target_val = targetnet(next_state).numpy()\n",
        "\n",
        "        val = target[0][action[0]]\n",
        "        if done[0]: target[0][action[0]] = reward[0]\n",
        "        else:target[0][action[0]] = gamma * target_val[0][np.argmax(target_next[0])] + reward[0]\n",
        "        erreur = abs(val - target[0][action[0]])\n",
        "        self.tree.add((erreur + self.e) ** self.a, experience)\n",
        "\n",
        "    def sample(self, n):\n",
        "        batch = []\n",
        "        moyenne = self.tree.tree[0] / n\n",
        "        for i in range(n):\n",
        "            a = moyenne * i\n",
        "            b = moyenne * (i + 1)\n",
        "            idx, p, data = self.tree.get(random.uniform(a, b))\n",
        "            batch.append([idx, data])\n",
        "        return batch\n",
        "\n",
        "    def update(self, idx, error):\n",
        "        self.tree.update(idx, (error + self.e) ** self.a)"
      ],
      "execution_count": 242,
      "outputs": []
    },
    {
      "cell_type": "markdown",
      "metadata": {
        "id": "ZOCcPiMz6ZTU"
      },
      "source": [
        "# **Politique EpsilonGreedy**"
      ]
    },
    {
      "cell_type": "code",
      "metadata": {
        "id": "WvyfJ4QIJaJ0"
      },
      "source": [
        "class Greedy():\n",
        "    \"\"\"\n",
        "    Me donne la politique en matière d'exploration/ Exploitation ( via le facteur *Epsilon)\n",
        "    \"\"\"\n",
        "    def __init__(self,start,end,decay):\n",
        "        self.start = start\n",
        "        self.end = end\n",
        "        self.decay = decay\n",
        "\n",
        "    def get_explo_rate(self, current_step):\n",
        "        return self.end + exp(-1. * self.decay * current_step) * (self.start - self.end)"
      ],
      "execution_count": 243,
      "outputs": []
    },
    {
      "cell_type": "markdown",
      "metadata": {
        "id": "4hgV0H646WGB"
      },
      "source": [
        "# **Agent décisionnel**"
      ]
    },
    {
      "cell_type": "code",
      "metadata": {
        "id": "GwOyhx6iJbt3"
      },
      "source": [
        "class Agent():\n",
        "    \"\"\"\n",
        "    Agent décisionnel (me donne l'action à faire) (MDP)\n",
        "    \"\"\"\n",
        "    def __init__(self,strategy,num_actions):\n",
        "        self.num_actions = num_actions\n",
        "        self.current_step = 0\n",
        "        self.strategy = strategy\n",
        "    \n",
        "    def select_action(self,state,policy_net,episode,astar,env):\n",
        "        self.current_step +=1\n",
        "        if episode > astar : \n",
        "            if self.strategy.get_explo_rate(self.current_step) > random.random():\n",
        "                return random.randrange(self.num_actions)\n",
        "            else:\n",
        "                return ((tf.squeeze(tf.math.argmax(policy_net.model(tf.expand_dims(state,0)),axis=1))).numpy())\n",
        "        else:\n",
        "            return env.Astar()"
      ],
      "execution_count": 244,
      "outputs": []
    },
    {
      "cell_type": "markdown",
      "metadata": {
        "id": "ognkpCPT6Q93"
      },
      "source": [
        "# **Classe Environnement**"
      ]
    },
    {
      "cell_type": "code",
      "metadata": {
        "id": "d_WK_fsSkUHH"
      },
      "source": [
        "class ENV:   \n",
        "    \"\"\"\n",
        "    l'environnement, mon agent, ses caractéristiques\n",
        "    \"\"\"\n",
        "    def __init__(self,A,B,j,Max_steps,obsta,size,actionspace,limit,initset,nb_objet):\n",
        "        self.actions_space = actionspace\n",
        "        self.posA = A\n",
        "        self.posB = B\n",
        "        self.state = [A[0],A[1]]\n",
        "        self.j = j\n",
        "        self.path = [A]\n",
        "        self.etape = 0\n",
        "        self.stepmax = Max_steps\n",
        "        self.obstacles = obsta\n",
        "        self.nb_objets = nb_objet\n",
        "        self.size = size\n",
        "        self.initset = initset\n",
        "        self.perte = -1000/(size[0]*size[1])\n",
        "        self.done = False\n",
        "\n",
        "        if initset:\n",
        "            screen = turtle.Screen()\n",
        "            screen.title(\"Chemin le plus court\")\n",
        "            self.bob= turtle.Turtle()\n",
        "            self.bob.pos = self.posA\n",
        "            self.bob.speed(0)\n",
        "            self.bob.pu()\n",
        "            self.bob.goto(self.posA[0], self.posA[1])\n",
        "            self.bob.pd()\n",
        "            self.Acr(self.posA[0],self.posA[1])\n",
        "            self.Bcr(self.posB[0],self.posB[1])\n",
        "            self.obstacle_Spawn()\n",
        "\n",
        "    def Acr(xa,ya):\n",
        "        A = turtle.Turtle()\n",
        "        A.speed(0)\n",
        "        A.pu()\n",
        "        A.color(\"red\")\n",
        "        A.shape(\"square\")\n",
        "        A.shapesize(stretch_wid=1,stretch_len=1)\n",
        "        A.goto(xa,ya)\n",
        "\n",
        "    def Bcr(xb,yb):\n",
        "        B = turtle.Turtle()\n",
        "        B.pu()\n",
        "        B.speed(0)\n",
        "        B.color(\"blue\")\n",
        "        B.shape(\"square\")\n",
        "        B.shapesize(stretch_wid=1,stretch_len=1)\n",
        "        B.goto(xb, yb)\n",
        "\n",
        "    def obstacle_Spawn(self):\n",
        "        for w in range (0,len(self.obstacles)):\n",
        "            obstacle = turtle.Turtle()\n",
        "            obstacle.speed(0)\n",
        "            obstacle.pu()\n",
        "            obstacle.shape(\"square\")\n",
        "            obstacle.color(\"brown\")\n",
        "            obstacle.shapesize(stretch_wid=5, stretch_len=3)\n",
        "            obstacle.goto(self.obstacles[w][0],self.obstacles[w][1])\n",
        "\n",
        "    def Astar(self):\n",
        "        x=[]\n",
        "        for i in range(self.actions_space): x.append(((self.state[0]+self.j*cos(radians((360/self.actions_space)*i))-self.posB[0])**2+(self.state[1]+self.j*sin(radians((360/self.actions_space)*i))-self.posB[1])**2))\n",
        "        return np.argmin(x)\n",
        "\n",
        "    def render(self): # n'est utliser que si initset était true\n",
        "        if self.initset == True:\n",
        "            self.bob.goto(self.state[0],self.state[1])\n",
        "        else:\n",
        "            print (\"impossible d'afficher une donnée\")\n",
        "\n",
        "    def renderfull(self):  # je render tout le chemin d'une turtle\n",
        "        print(self.path)\n",
        "        screen = turtle.Screen()\n",
        "        screen.title(\"Chemin le plus court\")\n",
        "        self.bob= turtle.Turtle()\n",
        "        self.bob.pos = self.posA\n",
        "        self.bob.speed(1)\n",
        "        self.bob.pu()\n",
        "        self.bob.goto(self.posA[0], self.posA[1])\n",
        "        self.bob.pd()\n",
        "        self.Acr(self.posA[0],self.posA[1])\n",
        "        self.Bcr(self.posB[0],self.posB[1])\n",
        "        self.obstacle_Spawn()\n",
        "        self.bob.goto(self.path[-1])\n",
        "        self.bob.pencolor(\"red\")\n",
        "        for i in range (1,len(self.path)):            # je repasse en allant seulement sur les cases validées \n",
        "            self.bob.goto(self.path[-i])\n",
        "        turtle.done()\n",
        "\n",
        "    def get_state(self):\n",
        "        stat = np.zeros(self.size)\n",
        "        stat[self.state[0]][self.state[1]][0] = 1\n",
        "        stat[self.posB[0]][self.posB[1]][1] = 10\n",
        "        return tf.constant(stat,dtype=float)\n",
        "\n",
        "    def take_action(self,action):\n",
        "        reward= self.step(action)\n",
        "        return (reward,self.done)\n",
        "\n",
        "    def reset(self):\n",
        "        self.etape = 0\n",
        "        self.path = [[self.posA[0],self.posA[1]]]\n",
        "        self.state = [self.posA[0],self.posA[1]]\n",
        "        return (self.posA)\n",
        "\n",
        "    def close():\n",
        "        turtle.bye()\n",
        "\n",
        "    def step(self,action):\n",
        "        self.state[0]+= int(self.j*cos(radians((360/self.actions_space)*action)))\n",
        "        self.state[1]+= int(self.j*sin(radians((360/self.actions_space)*action)))\n",
        "\n",
        "        self.distance = (self.state[0]-self.posB[0] )**2  + ( self.state[1]-self.posB[1] )**2\n",
        "        ''' # Implementation de la gestion d'obstacles\n",
        "        for i in range(0,len(self.obstacles)):\n",
        "            if( (    abs(self.state[0] - self.obstacles[i][0]) <=30 ) and (  abs( self.state[1] - obstacles[i][1]) <=50  )):\n",
        "                reward = -50\n",
        "                break \n",
        "        '''\n",
        "        if (self.distance <= self.j**2):\n",
        "            self.state = self.posB\n",
        "            reward = 1000\n",
        "            self.etape = self.stepmax\n",
        "            self.path.append(self.posB)\n",
        "        else:\n",
        "            reward = self.perte\n",
        "            self.path.append(self.state)\n",
        "\n",
        "        self.etape +=1     # j'ajoute 1 à l'étape puis vérifie si le nombre maximal d'étape pas simulation est atteint ou lorsque l'objet atteint B \n",
        "\n",
        "        if (self.etape >= self.stepmax ):self.done = True\n",
        "        else: self.done = False\n",
        "\n",
        "        if self.state[0]>=self.size[0]-3 or self.state[1]>=self.size[1]-3 or self.state[0]<=-(self.size[0]-3) or self.state[1]<=-(self.size[1]-3):\n",
        "            reward = -10000\n",
        "\n",
        "        if self.state[0]>=self.size[0]-1 or self.state[1]>=self.size[1]-1 or self.state[0]<=-(self.size[0]-1) or self.state[1]<=-(self.size[1]-1):\n",
        "            self.done = True\n",
        "            reward = -10000\n",
        "\n",
        "        return reward"
      ],
      "execution_count": 245,
      "outputs": []
    },
    {
      "cell_type": "markdown",
      "metadata": {
        "id": "-7Jp3iLG6BBe"
      },
      "source": [
        "# **extraction tenseur**"
      ]
    },
    {
      "cell_type": "code",
      "metadata": {
        "id": "_VFkM535J1aw"
      },
      "source": [
        "def extract_tensors(experiences):\n",
        "    \"\"\"\n",
        "    J'extrais 5 tenseurs à partir d'un named tuples experiences \n",
        "    \"\"\"\n",
        "    batch = Experience(*zip(*experiences))\n",
        "    t1 = tf.concat([batch.state],-1)\n",
        "    t2 = np.concatenate([batch.action],-1)\n",
        "    t3 = np.concatenate([batch.reward],-1)\n",
        "    t4 = tf.concat([batch.next_state],-1)\n",
        "    t5 = np.concatenate([batch.done],-1)\n",
        "    return(t1,t2,t3,t4,t5)"
      ],
      "execution_count": 246,
      "outputs": []
    },
    {
      "cell_type": "markdown",
      "metadata": {
        "id": "D3Ig_NZjJUkb"
      },
      "source": [
        "# **Main**"
      ]
    },
    {
      "cell_type": "code",
      "metadata": {
        "colab": {
          "base_uri": "https://localhost:8080/",
          "height": 642
        },
        "id": "FFkeQBY0J6CW",
        "outputId": "c856b2ca-1440-4d8f-99e0-bfcf33251084"
      },
      "source": [
        "if __name__ == \"__main__\":\n",
        "    param = para()\n",
        "    end = 0\n",
        "    endingpoint=[]\n",
        "    policy_net = DQN(param.size,param.actionspace,param.LearningRate,\"Policy\",param.dir,param.opti,param.loss,param.metrique,param.dueling,param.tau,param.tau_update,param.initializer)\n",
        "    target_net = DQN(param.size,param.actionspace,param.LearningRate,\"Target\",param.dir,param.opti,param.loss,param.metrique,param.dueling,param.tau,param.tau_update,param.initializer)\n",
        "    if param.modeload:policy_net.load()\n",
        "    target_net.transfer(policy_net.model)\n",
        "\n",
        "    env = ENV(param.A,param.B,param.j,param.def_step,param.obstacles,param.size,param.actionspace,param.limit,param.renderfull,param.nb_objets)\n",
        "    greedy = Greedy(param.eps_st, param.eps_end,param.eps_decay)\n",
        "    agent = Agent(greedy,env.actions_space)\n",
        "    memory = Replay_memory(param.memory_size,param.PER_alpha,param.PER_epsi)\n",
        "\n",
        "    episode_len = []\n",
        "\n",
        "    for episode in range(param.episodes):\n",
        "        \n",
        "        env.reset()\n",
        "        state = env.get_state()\n",
        "        print(\"========================================================================================================\")\n",
        "        \n",
        "        for pas in count():\n",
        "            if param.render: env.render()\n",
        "            action = agent.select_action(state,policy_net,episode,param.astar,env)\n",
        "\n",
        "            reward,done = env.take_action(action)\n",
        "            next_state = env.get_state()\n",
        "            memory.add(Experience(state,action,reward,next_state,done),policy_net.model,target_net.model,param.gamma)\n",
        "            state = next_state\n",
        "            policy_net.fitting(target_net.model,param.gamma,param.batch_size,memory,param.batchsize)\n",
        "                \n",
        "            if pas % 25 ==0 : print(f\"pas numéro : {pas} :: state : {env.state[0]} | {env.state[1]} :: reward : {reward} :: policy estimations = {tf.squeeze(policy_net.model(tf.expand_dims(state,0))).numpy()}\")\n",
        "\n",
        "            if env.done:\n",
        "                target_net.tautransfer(policy_net.model)\n",
        "                if (reward==1000):\n",
        "                    end+=1\n",
        "                    endingpoint.append(1)\n",
        "                else:\n",
        "                    endingpoint.append(0)\n",
        "\n",
        "                episode_len.append(pas)\n",
        "                move_avg = plot(episode_len, param.M,0)\n",
        "                print(f\"Episode : {episode+1}\\nmoyenne mobile des {param.M} épisodes : {move_avg[-1]}\\nvraie fin : {end} \\nsoit : {(end/(episode+1))*100} % \" )\n",
        "                break\n",
        "            if not param.tau_update:\n",
        "                if episode%param.target_update==0:target_net.transfer(policy_net.model)\n",
        "    \n",
        "    if param.save:policy_net.save()\n",
        "\n",
        "\n",
        "    _ = plot(endingpoint,param.M2,1)"
      ],
      "execution_count": 247,
      "outputs": [
        {
          "output_type": "display_data",
          "data": {
            "image/png": "[encoded data removed]",
            "text/plain": [
              "<Figure size 432x288 with 1 Axes>"
            ]
          },
          "metadata": {
            "tags": [],
            "needs_background": "light"
          }
        },
        {
          "output_type": "stream",
          "text": [
            "Episode : 700\n",
            "moyenne mobile des 5 épisodes : 8.0\n",
            "vraie fin : 674 \n",
            "soit : 96.28571428571429 % \n"
          ],
          "name": "stdout"
        },
        {
          "output_type": "display_data",
          "data": {
            "image/png": "[encoded data removed]",
            "text/plain": [
              "<Figure size 432x288 with 1 Axes>"
            ]
          },
          "metadata": {
            "tags": [],
            "needs_background": "light"
          }
        }
      ]
    }
  ]
}
