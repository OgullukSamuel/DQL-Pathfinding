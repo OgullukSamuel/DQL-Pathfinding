{
  "nbformat": 4,
  "nbformat_minor": 0,
  "metadata": {
    "accelerator": "GPU",
    "colab": {
      "name": "DQN COMPLET.ipynb",
      "provenance": [],
      "collapsed_sections": [],
      "toc_visible": true
    },
    "kernelspec": {
      "display_name": "Python 3",
      "name": "python3"
    },
    "language_info": {
      "name": "python"
    }
  },
  "cells": [
    {
      "cell_type": "markdown",
      "metadata": {
        "id": "iDbLFhIdkUG6"
      },
      "source": [
        "# **Import**"
      ]
    },
    {
      "cell_type": "code",
      "metadata": {
        "colab": {
          "base_uri": "https://localhost:8080/"
        },
        "id": "Pvq9DCTvkUG_",
        "outputId": "6f9364f2-2cc5-448c-c75b-c5d49dd32aa8"
      },
      "source": [
        "import os\n",
        "import h5py\n",
        "import turtle\n",
        "import random\n",
        "import matplotlib\n",
        "import numpy as np\n",
        "import pandas as pd\n",
        "import tensorflow as tf\n",
        "from itertools import count\n",
        "import matplotlib.pyplot as plt\n",
        "from collections import namedtuple\n",
        "from math import cos, sin, radians , exp, sqrt\n",
        "print(\"GPUs : \", tf.config.list_physical_devices('GPU'))"
      ],
      "execution_count": null,
      "outputs": [
        {
          "output_type": "stream",
          "text": [
            "GPUs :  [PhysicalDevice(name='/physical_device:GPU:0', device_type='GPU')]\n"
          ],
          "name": "stdout"
        }
      ]
    },
    {
      "cell_type": "code",
      "metadata": {
        "id": "7xdt0HqakUHA"
      },
      "source": [
        "is_ipython = 'inline' in matplotlib.get_backend()\n",
        "if is_ipython: from IPython import display"
      ],
      "execution_count": null,
      "outputs": []
    },
    {
      "cell_type": "markdown",
      "metadata": {
        "id": "PG7VSWXxkUHA"
      },
      "source": [
        "#**Ce qu'il me reste à faire :**"
      ]
    },
    {
      "cell_type": "markdown",
      "metadata": {
        "id": "yWqMrh4qkUHB"
      },
      "source": [
        "*   **WIP :** Changer le support Render() Turtle vers autre librairie\n",
        "\n",
        "*   **WIP :** optimiser le programme( surtout l'environnement) et fusionner les classes pouvant l'être\n",
        "\n",
        "*   **WIP :** Utiliser le GPU voir TPU si possible\n",
        "\n",
        "*   **WIP :** débloquer l'implementation des obstacles\n",
        "\n",
        "*   **WIP :** généraliser le programme"
      ]
    },
    {
      "cell_type": "markdown",
      "metadata": {
        "id": "vqhUJ46z7aWp"
      },
      "source": [
        "# **Paramètres**"
      ]
    },
    {
      "cell_type": "code",
      "metadata": {
        "id": "NGGhmBsfJc-P",
        "colab": {
          "base_uri": "https://localhost:8080/"
        },
        "outputId": "b2c7f1f2-5a15-4c8c-cdde-5ffc2004b800"
      },
      "source": [
        "class para:\n",
        "    \"\"\"\n",
        "    Classe de tous les paramètres modifiables\n",
        "    \"\"\"\n",
        "        # hyperparamètres de l'agent :      \n",
        "    episodes = 700                      # nb d'épisode d'entrainement\n",
        "\n",
        "    dueling = True                      # True si mise en place de double dueling networks\n",
        "    tau_update=True\n",
        "    dir=\"model\"\n",
        "    save = False\n",
        "    modeload = False\n",
        "\n",
        "        # données de compilation\n",
        "    LearningRate = 1e-3\n",
        "    opti=tf.keras.optimizers.RMSprop(learning_rate=LearningRate, rho=0.95, epsilon=0.01)    # meilleur pour l'instant c RMSPROP [RMSprop(lr=self.learning_rate, rho=0.95, epsilon=0.01]\n",
        "    loss=tf.keras.losses.CategoricalCrossentropy()                                          # meilleur pour l'instant c categorical crossentropy\n",
        "    metrique=[tf.keras.metrics.CategoricalCrossentropy()]                                   # meilleur pour l'instant c categorical crossentropy\n",
        "    initializer= tf.keras.initializers.Ones()\n",
        "\n",
        "        # exploration ou exploitation\n",
        "    eps_st = 1\n",
        "    eps_end = 0.01\n",
        "    eps_decay = 0.001\n",
        "\n",
        "        #gestion du target+Memoire\n",
        "    target_update = 16                  #nombre de tour entre chaque actualisation du target net\n",
        "    memory_size = 20000                  #taille de la Replay memory\n",
        "    batch_size = 64                     #taille du batch de Replay memory sur lequel j'entraine le modèle à chaque tour\n",
        "    batchsize = 32                      # taille du batch fit\n",
        "    tau=0.1\n",
        "    PER_epsi = 0.01\n",
        "    PER_alpha = 0.6\n",
        "\n",
        "        #variables d'environnement : \n",
        "    renderfull=False                    # True fait en sorte que je puisse voir en temps réel le chemin\n",
        "    render = False\n",
        "    gamma = 0.999                       # taux de diminution de la récompense\n",
        "\n",
        "    A = [0,0]\n",
        "    B = [30,0]\n",
        "    size= [(abs(B[0])+abs(B[1]))*2+2,(abs(B[0])+abs(B[1]))*2+2,2]\n",
        "    astar = (2**(6*int(np.log10(sqrt(B[0]**2 + B[1]**2)) )))-1\n",
        "    print(astar)\n",
        "    print(size)\n",
        "\n",
        "    def_step = 400                      # le nombre maximal de pas authorisé par tour\n",
        "        \n",
        "    obstacles = [[20,-56],[120,12]]\n",
        "    obstacles_size = [50,30]\n",
        "\n",
        "        \n",
        "        #donnes de l'agent\n",
        "    limit = (B[0]**2 + B[1]**2)*4       # la limite de distance au carré \n",
        "    actionspace = 4                     # me donne le nombre de déplacements possibles ( 4 = 90 °) nb/360 = nb de degré de Delta\n",
        "    j = 1                               # la taille des pas que je fais\n",
        "\n",
        "        #données d'apprentissage/ de visulisation des données\n",
        "\n",
        "    nb_objets=1                         # le nombre d'objets différents (turtle,obstacle,pointB,A,etc)\n",
        "    M = 5                               # j'aurai la moyenne des M derniers nombres mouvements sur le plot\n",
        "    M2 = 20                             # j'aurai la proportion des M2 dernières fins réelles sur le plot"
      ],
      "execution_count": null,
      "outputs": [
        {
          "output_type": "stream",
          "text": [
            "63\n",
            "[102, 102, 2]\n"
          ],
          "name": "stdout"
        }
      ]
    },
    {
      "cell_type": "markdown",
      "metadata": {
        "id": "VlL0zMo756Bx"
      },
      "source": [
        "# **Matplot**"
      ]
    },
    {
      "cell_type": "code",
      "metadata": {
        "id": "ZkGOTMQHJ3hQ"
      },
      "source": [
        "def plot (values,period,what):\n",
        "    \"\"\"\n",
        "    sert à afficher les données de façon clean\n",
        "    \"\"\"\n",
        "    if what == 0 : \n",
        "        if is_ipython: display.clear_output(wait=True)\n",
        "    plt.figure(2)\n",
        "    plt.clf()\n",
        "    if what ==0:\n",
        "        plt.title(\"Training\")\n",
        "        plt.xlabel(\"Episode\")\n",
        "        plt.ylabel(\"Duration\")\n",
        "    elif what==1:\n",
        "        plt.title(\"Evaluation des fins réelles\")\n",
        "        plt.xlabel(\"Episode\")\n",
        "        plt.ylabel(\"statut de la fin\")\n",
        "    plt.plot(values)\n",
        "\n",
        "    moving_avg = get_moving_average(values,period)\n",
        "    \n",
        "    plt.plot(moving_avg)\n",
        "    plt.pause(0.001)\n",
        "    return moving_avg\n",
        "\n",
        "def get_moving_average(valeurs,period):\n",
        "    if len(valeurs)>= period:\n",
        "        return np.insert(pd.Series(valeurs).rolling(window=period).mean().iloc[period-1:].values,0,[0]*(period-1))\n",
        "    else:\n",
        "        return np.zeros(len(valeurs))"
      ],
      "execution_count": null,
      "outputs": []
    },
    {
      "cell_type": "markdown",
      "metadata": {
        "id": "isalDx5N6vN8"
      },
      "source": [
        "# **Classe DQN**"
      ]
    },
    {
      "cell_type": "code",
      "metadata": {
        "id": "HyO_1VkHJJiK"
      },
      "source": [
        "class DQN(tf.Module):  \n",
        "    \"\"\"\n",
        "    création d'un réseau de neurone profond \n",
        "    \"\"\"\n",
        "    def __init__(self,inputnb,actionspace,ler,named,dir,opti,lossing,metrique,dueling,tau,tau_update,initializer):\n",
        "        self.tau_update=tau_update\n",
        "        self.dueling=dueling\n",
        "        self.TAU = tau\n",
        "        if not dueling:\n",
        "            self.model = tf.keras.Sequential([\n",
        "            tf.keras.layers.Conv2D(filters=3,kernel_size=2, strides=1, activation='relu',input_shape=(inputnb[0],inputnb[1],inputnb[2])),\n",
        "            tf.keras.layers.MaxPool2D(pool_size=2, strides=1, padding='valid'),\n",
        "            tf.keras.layers.PRelu(),\n",
        "            tf.keras.layers.Conv2D(filters=2,kernel_size=2, strides=2, activation='relu'),\n",
        "            tf.keras.layers.MaxPool2D(pool_size=2, strides=2, padding='valid'),\n",
        "            tf.keras.layers.PReLU(),\n",
        "            tf.keras.layers.Flatten(),\n",
        "            tf.keras.layers.Dense(1024,activation=\"elu\", kernel_initializer=initializer),\n",
        "            tf.keras.layers.Dense(512, activation=\"elu\", kernel_initializer=initializer),\n",
        "            tf.keras.layers.Dense(256, activation='elu', kernel_initializer=initializer),\n",
        "            tf.keras.layers.Dense(128, activation='elu', kernel_initializer=initializer),\n",
        "            tf.keras.layers.Dense(64,  activation='elu', kernel_initializer=initializer),\n",
        "            tf.keras.layers.Dense(32,  activation='elu', kernel_initializer=initializer),\n",
        "            tf.keras.layers.Dense(actionspace, activation='linear', kernel_initializer=initializer)])\n",
        "\n",
        "            self.model.compile(optimizer=opti, loss=lossing, metrics=metrique)\n",
        "            self.model.summary()\n",
        "        else:\n",
        "            input=tf.keras.layers.Input(shape=inputnb,name=\"Input\")\n",
        "\n",
        "            convo = tf.keras.Sequential([\n",
        "                tf.keras.layers.Conv2D(filters=3,kernel_size=2, strides=1, activation=\"relu\",input_shape=(inputnb[0],inputnb[1],inputnb[2])),\n",
        "                tf.keras.layers.MaxPool2D(pool_size=2, strides=1, padding=\"valid\"),\n",
        "                tf.keras.layers.Conv2D(filters=2,kernel_size=2, strides=2, activation=\"relu\"),\n",
        "                tf.keras.layers.MaxPool2D(pool_size=2, strides=2, padding=\"valid\"),\n",
        "                tf.keras.layers.PReLU(),\n",
        "                tf.keras.layers.Flatten(),\n",
        "                tf.keras.layers.Dense(1024,activation=\"relu\", kernel_initializer=initializer)],name=\"Convolution\")(input)\n",
        "\n",
        "            value_net = tf.keras.Sequential([\n",
        "                tf.keras.layers.Dense(128,activation=\"relu\", kernel_initializer=initializer),\n",
        "                tf.keras.layers.Dense(1, kernel_initializer=initializer),\n",
        "                tf.keras.layers.Lambda(lambda s: tf.keras.backend.expand_dims(s[:, 0], -1),output_shape=(actionspace,))],name=\"Value_network\")(convo)\n",
        "\n",
        "            advantage_net = tf.keras.Sequential([ \n",
        "                tf.keras.layers.Dense(128, activation=\"relu\", kernel_initializer=initializer),\n",
        "                tf.keras.layers.Dense(actionspace, kernel_initializer=initializer),\n",
        "                tf.keras.layers.Lambda(lambda a: a[:, :] - tf.keras.backend.mean(a[:, :], keepdims=True),output_shape=(actionspace,))],name=\"Advantage_network\")(convo)\n",
        "\n",
        "            output = tf.keras.layers.Add()([value_net, advantage_net])\n",
        "\n",
        "            \"\"\"distance_net = tf.keras.Sequential([\n",
        "                tf.keras.layers.Dense(128),\n",
        "                tf.keras.layers.Flatten(),\n",
        "                tf.keras.layers.Dense(actionspace)])(input)\n",
        "            net = tf.keras.layers.Concatenate()([Resnet,distance_net])\"\"\"\n",
        "\n",
        "            \n",
        "\n",
        "\n",
        "            self.model = tf.keras.Model(input, output,name=named)\n",
        "            self.model.compile(optimizer=opti, loss=lossing, metrics=metrique)\n",
        "            tf.keras.utils.plot_model(self.model, to_file='réseau.png')\n",
        "            self.model.summary()\n",
        "\n",
        "        if not os.path.exists(dir): os.makedirs(dir)\n",
        "        self.saveplace = os.path.join(dir,named+\".h5\") \n",
        "\n",
        "    def tautransfer(self,policy_model):\n",
        "        if not self.tau_update:\n",
        "            self.transfer(policy_model)\n",
        "        else:\n",
        "            q_model_theta = policy_model.get_weights()\n",
        "            target_model_theta = self.model.get_weights()\n",
        "            i = 0\n",
        "            for q_weight, target_weight in zip(q_model_theta, target_model_theta):\n",
        "                target_weight = target_weight * (1-self.TAU) + q_weight * self.TAU\n",
        "                target_model_theta[i] = target_weight\n",
        "                i += 1\n",
        "            self.model.set_weights(target_model_theta)\n",
        "\n",
        "    def transfer(self,model):\n",
        "        self.model.set_weights(model.get_weights())\n",
        "\n",
        "    def fitting(self,target_net,gammaparam,batchsize,memory,batch_size):\n",
        "        experiences = memory.sample(batchsize)\n",
        "        states, actions, rewards , next_states, dones = extract_tensors(list(zip(*experiences))[1])\n",
        "\n",
        "        target = tf.squeeze(self.model.predict(states)).numpy()\n",
        "        target_next = tf.squeeze(self.model.predict(next_states)).numpy()\n",
        "        target_val = tf.squeeze(target_net.predict(next_states)).numpy()\n",
        "\n",
        "        erreur = np.zeros(batchsize)\n",
        "        for i in range(batchsize):\n",
        "            val = target[i][actions[i]]\n",
        "            if dones[i]: target[i][actions[i]] = rewards[i]\n",
        "            else:target[i][actions[i]] = gammaparam * target_val[i][np.argmax(target_next[i])] + rewards[i]\n",
        "            erreur[i] = abs(val - target[i][actions[i]])\n",
        "        \n",
        "        for i in range(param.batch_size):\n",
        "            idx = experiences[i][0]\n",
        "            memory.update(idx, erreur[i])\n",
        "    \n",
        "        self.model.fit(states, tf.constant(target), batch_size=batch_size,sample_weight=None,verbose=0, epochs=3)\n",
        "        \n",
        "    \n",
        "    def load(self):\n",
        "        print(\"------------CHARGEMENT MODELE------------\")\n",
        "        try:\n",
        "            self.model = tf.keras.models.load_model(self.saveplace)\n",
        "            print(\"--------------MODELE CHARGE--------------\")\n",
        "        except Exception as ex: print(\"échec du chargement : \",ex)\n",
        "\n",
        "    def save(self):\n",
        "        print(\"----------ENREGISTREMENT MODELE----------\")\n",
        "        try: \n",
        "            self.model.save(self.saveplace) \n",
        "            print(\"------------MODELE ENREGISTRE------------\")\n",
        "        except Exception as ex: print(\"échec de l'enregistrement : \",ex)"
      ],
      "execution_count": null,
      "outputs": []
    },
    {
      "cell_type": "markdown",
      "metadata": {
        "id": "m1E3gfzp6oI4"
      },
      "source": [
        "# **Experience et arbre binaire**\n"
      ]
    },
    {
      "cell_type": "code",
      "metadata": {
        "id": "m5Pl5aKuJUft"
      },
      "source": [
        "Experience = namedtuple(\"Experience\",(\"state\",\"action\",\"reward\",\"next_state\",\"done\"))"
      ],
      "execution_count": null,
      "outputs": []
    },
    {
      "cell_type": "code",
      "metadata": {
        "id": "Ht3_ngBYJUkY"
      },
      "source": [
        "class SumTree:\n",
        "    write = 0\n",
        "    \"\"\"\n",
        "    crée un arbre binaire (bibliothèque venant de Github)\n",
        "    \"\"\"\n",
        "    def __init__(self, capacity):\n",
        "        self.capacity = capacity\n",
        "        self.tree = np.zeros(2*capacity - 1)\n",
        "        self.data = np.zeros(capacity, dtype=object)\n",
        "\n",
        "    def _propagate(self, idx, change):\n",
        "        parent = (idx - 1)//2\n",
        "        self.tree[parent] += change\n",
        "        if parent != 0: self._propagate(parent, change)\n",
        "\n",
        "    def _retrieve(self, idx, s):\n",
        "        left = 2 * idx + 1\n",
        "        right = left + 1\n",
        "        if left >= len(self.tree): return idx\n",
        "        if s <= self.tree[left]: return self._retrieve(left, s)\n",
        "        else: return self._retrieve(right, s-self.tree[left])\n",
        "\n",
        "    def add(self, p, data):\n",
        "        idx = self.write + self.capacity - 1\n",
        "        self.data[self.write] = data\n",
        "        self.update(idx, p)\n",
        "        self.write += 1\n",
        "        if self.write >= self.capacity: self.write = 0\n",
        "\n",
        "    def update(self, idx, p):\n",
        "        change = p - self.tree[idx]\n",
        "        self.tree[idx] = p\n",
        "        self._propagate(idx, change)\n",
        "\n",
        "    def get(self, s):\n",
        "        idx = self._retrieve(0, s)\n",
        "        dataIdx = idx - self.capacity + 1\n",
        "        return (idx, self.tree[idx], self.data[dataIdx])"
      ],
      "execution_count": null,
      "outputs": []
    },
    {
      "cell_type": "markdown",
      "metadata": {
        "id": "VGx-VR5HJUkY"
      },
      "source": [
        "# **Mémoire**"
      ]
    },
    {
      "cell_type": "code",
      "metadata": {
        "id": "TRYb6mEnJUkZ"
      },
      "source": [
        "class Replay_memory():\n",
        "    \"\"\"\n",
        "    Je gère la mémoire \n",
        "    \"\"\"\n",
        "    def __init__(self,capa,a,e):\n",
        "        self.tree = SumTree(capa)\n",
        "        self.e = e\n",
        "        self.a = a\n",
        "\n",
        "    def add(self, experience, policynet, targetnet,gamma):\n",
        "        state, action, reward , next_state, done = extract_tensors([experience])\n",
        "\n",
        "        target = policynet(state).numpy()\n",
        "        target_next = policynet(next_state).numpy()\n",
        "        target_val = targetnet(next_state).numpy()\n",
        "\n",
        "        val = target[0][action[0]]\n",
        "        if done[0]: target[0][action[0]] = reward[0]\n",
        "        else:target[0][action[0]] = gamma * target_val[0][np.argmax(target_next[0])] + reward[0]\n",
        "        erreur = abs(val - target[0][action[0]])\n",
        "        self.tree.add((erreur + self.e) ** self.a, experience)\n",
        "\n",
        "    def sample(self, n):\n",
        "        batch = []\n",
        "        moyenne = self.tree.tree[0] / n\n",
        "        for i in range(n):\n",
        "            a = moyenne * i\n",
        "            b = moyenne * (i + 1)\n",
        "            idx, p, data = self.tree.get(random.uniform(a, b))\n",
        "            batch.append([idx, data])\n",
        "        return batch\n",
        "\n",
        "    def update(self, idx, error):\n",
        "        self.tree.update(idx, (error + self.e) ** self.a)"
      ],
      "execution_count": null,
      "outputs": []
    },
    {
      "cell_type": "markdown",
      "metadata": {
        "id": "ZOCcPiMz6ZTU"
      },
      "source": [
        "# **Politique EpsilonGreedy**"
      ]
    },
    {
      "cell_type": "code",
      "metadata": {
        "id": "WvyfJ4QIJaJ0"
      },
      "source": [
        "class Greedy():\n",
        "    \"\"\"\n",
        "    Me donne la politique en matière d'exploration/ Exploitation ( via le facteur *Epsilon)\n",
        "    \"\"\"\n",
        "    def __init__(self,start,end,decay):\n",
        "        self.start = start\n",
        "        self.end = end\n",
        "        self.decay = decay\n",
        "\n",
        "    def get_explo_rate(self, current_step):\n",
        "        return self.end + exp(-1. * self.decay * current_step) * (self.start - self.end)"
      ],
      "execution_count": null,
      "outputs": []
    },
    {
      "cell_type": "markdown",
      "metadata": {
        "id": "4hgV0H646WGB"
      },
      "source": [
        "# **Agent décisionnel**"
      ]
    },
    {
      "cell_type": "code",
      "metadata": {
        "id": "GwOyhx6iJbt3"
      },
      "source": [
        "class Agent():\n",
        "    \"\"\"\n",
        "    Agent décisionnel (me donne l'action à faire) (MDP)\n",
        "    \"\"\"\n",
        "    def __init__(self,strategy,num_actions):\n",
        "        self.num_actions = num_actions\n",
        "        self.current_step = 0\n",
        "        self.strategy = strategy\n",
        "    \n",
        "    def select_action(self,state,policy_net):\n",
        "        rate = self.strategy.get_explo_rate(self.current_step)\n",
        "        self.current_step +=1\n",
        "\n",
        "        if rate > random.random():\n",
        "            return random.randrange(self.num_actions)\n",
        "        else:\n",
        "            return ((tf.squeeze(tf.math.argmax(policy_net.model(tf.expand_dims(state,0)),axis=1))).numpy())"
      ],
      "execution_count": null,
      "outputs": []
    },
    {
      "cell_type": "markdown",
      "metadata": {
        "id": "ognkpCPT6Q93"
      },
      "source": [
        "# **Classe Environnement**"
      ]
    },
    {
      "cell_type": "code",
      "metadata": {
        "id": "d_WK_fsSkUHH"
      },
      "source": [
        "class ENV:   \n",
        "    \"\"\"\n",
        "    l'environnement, mon agent, ses caractéristiques\n",
        "    \"\"\"\n",
        "    def __init__(self,A,B,j,Max_steps,obsta,size,actionspace,limit,initset,nb_objet):\n",
        "        self.actions_space = actionspace\n",
        "        self.posA = A\n",
        "        self.posB = B\n",
        "        self.state = [A[0],A[1]]\n",
        "        self.j = j\n",
        "        self.path = [A]\n",
        "        self.etape = 0\n",
        "        self.stepmax = Max_steps\n",
        "        self.obstacles = obsta\n",
        "        self.nb_objets = nb_objet\n",
        "        self.size = size\n",
        "        self.initset = initset\n",
        "        self.perte = -100/(size[0]*size[1])\n",
        "        self.done = False\n",
        "\n",
        "        if initset:\n",
        "            screen = turtle.Screen()\n",
        "            screen.title(\"Chemin le plus court\")\n",
        "            self.bob= turtle.Turtle()\n",
        "            self.bob.pos = self.posA\n",
        "            self.bob.speed(0)\n",
        "            self.bob.pu()\n",
        "            self.bob.goto(self.posA[0], self.posA[1])\n",
        "            self.bob.pd()\n",
        "            self.Acr(self.posA[0],self.posA[1])\n",
        "            self.Bcr(self.posB[0],self.posB[1])\n",
        "            self.obstacle_Spawn()\n",
        "\n",
        "    def Acr(xa,ya):\n",
        "        A = turtle.Turtle()\n",
        "        A.speed(0)\n",
        "        A.pu()\n",
        "        A.color(\"red\")\n",
        "        A.shape(\"square\")\n",
        "        A.shapesize(stretch_wid=1,stretch_len=1)\n",
        "        A.goto(xa,ya)\n",
        "\n",
        "    def Bcr(xb,yb):\n",
        "        B = turtle.Turtle()\n",
        "        B.pu()\n",
        "        B.speed(0)\n",
        "        B.color(\"blue\")\n",
        "        B.shape(\"square\")\n",
        "        B.shapesize(stretch_wid=1,stretch_len=1)\n",
        "        B.goto(xb, yb)\n",
        "\n",
        "    def obstacle_Spawn(self):\n",
        "        for w in range (0,len(self.obstacles)):\n",
        "            obstacle = turtle.Turtle()\n",
        "            obstacle.speed(0)\n",
        "            obstacle.pu()\n",
        "            obstacle.shape(\"square\")\n",
        "            obstacle.color(\"brown\")\n",
        "            obstacle.shapesize(stretch_wid=5, stretch_len=3)\n",
        "            obstacle.goto(self.obstacles[w][0],self.obstacles[w][1])\n",
        "\n",
        "    def Astar(self):\n",
        "        x=[]\n",
        "        for i in range(self.actions_space): x.append(((self.state[0]+self.j*cos(radians((360/self.actions_space)*i))-self.posB[0])**2+(self.state[1]+self.j*sin(radians((360/self.actions_space)*i))-self.posB[1])**2))\n",
        "        return np.argmin(x)\n",
        "\n",
        "    def render(self): # n'est utliser que si initset était true\n",
        "        if self.initset == True:\n",
        "            self.bob.goto(self.state[0],self.state[1])\n",
        "        else:\n",
        "            print (\"impossible d'afficher une donnée\")\n",
        "\n",
        "    def renderfull(self):  # je render tout le chemin d'une turtle\n",
        "        print(self.path)\n",
        "        screen = turtle.Screen()\n",
        "        screen.title(\"Chemin le plus court\")\n",
        "        self.bob= turtle.Turtle()\n",
        "        self.bob.pos = self.posA\n",
        "        self.bob.speed(1)\n",
        "        self.bob.pu()\n",
        "        self.bob.goto(self.posA[0], self.posA[1])\n",
        "        self.bob.pd()\n",
        "        self.Acr(self.posA[0],self.posA[1])\n",
        "        self.Bcr(self.posB[0],self.posB[1])\n",
        "        self.obstacle_Spawn()\n",
        "        self.bob.goto(self.path[-1])\n",
        "        self.bob.pencolor(\"red\")\n",
        "        for i in range (1,len(self.path)):            # je repasse en allant seulement sur les cases validées \n",
        "            self.bob.goto(self.path[-i])\n",
        "        turtle.done()\n",
        "\n",
        "    def get_state(self):\n",
        "        stat = np.zeros(self.size)\n",
        "        stat[self.state[0]][self.state[1]][0] = 1\n",
        "        stat[self.posB[0]][self.posB[1]][1] = 10\n",
        "        return tf.constant(stat,dtype=float)\n",
        "\n",
        "    def take_action(self,action):\n",
        "        reward= self.step(action)\n",
        "        return (reward,self.done)\n",
        "\n",
        "    def reset(self):\n",
        "        self.etape = 0\n",
        "        self.path = [[self.posA[0],self.posA[1]]]\n",
        "        self.state = [self.posA[0],self.posA[1]]\n",
        "        return (self.posA)\n",
        "\n",
        "    def close():\n",
        "        turtle.bye()\n",
        "\n",
        "    def step(self,action):\n",
        "        self.state[0]+= int(self.j*cos(radians((360/self.actions_space)*action)))\n",
        "        self.state[1]+= int(self.j*sin(radians((360/self.actions_space)*action)))\n",
        "\n",
        "        self.distance = (self.state[0]-self.posB[0] )**2  + ( self.state[1]-self.posB[1] )**2\n",
        "        ''' # Implementation de la gestion d'obstacles\n",
        "        for i in range(0,len(self.obstacles)):\n",
        "            if( (    abs(self.state[0] - self.obstacles[i][0]) <=30 ) and (  abs( self.state[1] - obstacles[i][1]) <=50  )):\n",
        "                reward = -50\n",
        "                break \n",
        "        '''\n",
        "        if (self.distance <= self.j**2):\n",
        "            self.state = self.posB\n",
        "            reward = 1000\n",
        "            self.etape = self.stepmax\n",
        "            self.path.append(self.posB)\n",
        "        else:\n",
        "            reward = self.perte\n",
        "            self.path.append(self.state)\n",
        "\n",
        "        self.etape +=1     # j'ajoute 1 à l'étape puis vérifie si le nombre maximal d'étape pas simulation est atteint ou lorsque l'objet atteint B \n",
        "\n",
        "        if (self.etape >= self.stepmax ):self.done = True\n",
        "        else: self.done = False\n",
        "\n",
        "        if self.state[0]>=self.size[0]-3 or self.state[1]>=self.size[1]-3 or self.state[0]<=-(self.size[0]-3) or self.state[1]<=-(self.size[1]-3):\n",
        "            reward = -10000\n",
        "\n",
        "        if self.state[0]>=self.size[0]-1 or self.state[1]>=self.size[1]-1 or self.state[0]<=-(self.size[0]-1) or self.state[1]<=-(self.size[1]-1):\n",
        "            self.done = True\n",
        "            reward = -10000\n",
        "\n",
        "        return reward"
      ],
      "execution_count": null,
      "outputs": []
    },
    {
      "cell_type": "markdown",
      "metadata": {
        "id": "-7Jp3iLG6BBe"
      },
      "source": [
        "# **extraction tenseur**"
      ]
    },
    {
      "cell_type": "code",
      "metadata": {
        "id": "_VFkM535J1aw"
      },
      "source": [
        "def extract_tensors(experiences):\n",
        "    \"\"\"\n",
        "    J'extrais 5 tenseurs à partir d'un named tuples experiences \n",
        "    \"\"\"\n",
        "    batch = Experience(*zip(*experiences))\n",
        "    t1 = tf.concat([batch.state],-1)\n",
        "    t2 = np.concatenate([batch.action],-1)\n",
        "    t3 = np.concatenate([batch.reward],-1)\n",
        "    t4 = tf.concat([batch.next_state],-1)\n",
        "    t5 = np.concatenate([batch.done],-1)\n",
        "    return(t1,t2,t3,t4,t5)"
      ],
      "execution_count": null,
      "outputs": []
    },
    {
      "cell_type": "markdown",
      "metadata": {
        "id": "D3Ig_NZjJUkb"
      },
      "source": [
        "# **Main**"
      ]
    },
    {
      "cell_type": "code",
      "metadata": {
        "colab": {
          "base_uri": "https://localhost:8080/",
          "height": 813
        },
        "id": "FFkeQBY0J6CW",
        "outputId": "facb8448-2b14-4a7c-9236-ebafb804d6a9"
      },
      "source": [
        "if __name__ == \"__main__\":\n",
        "    param = para()\n",
        "    end = 0\n",
        "    endingpoint=[]\n",
        "    policy_net = DQN(param.size,param.actionspace,param.LearningRate,\"Policy\",param.dir,param.opti,param.loss,param.metrique,param.dueling,param.tau,param.tau_update,param.initializer)\n",
        "    target_net = DQN(param.size,param.actionspace,param.LearningRate,\"Target\",param.dir,param.opti,param.loss,param.metrique,param.dueling,param.tau,param.tau_update,param.initializer)\n",
        "    if param.modeload:policy_net.load()\n",
        "    target_net.transfer(policy_net.model)\n",
        "\n",
        "    env = ENV(param.A,param.B,param.j,param.def_step,param.obstacles,param.size,param.actionspace,param.limit,param.renderfull,param.nb_objets)\n",
        "    greedy = Greedy(param.eps_st, param.eps_end,param.eps_decay)\n",
        "    agent = Agent(greedy,env.actions_space)\n",
        "    memory = Replay_memory(param.memory_size,param.PER_alpha,param.PER_epsi)\n",
        "\n",
        "    episode_len = []\n",
        "\n",
        "    for episode in range(param.episodes):\n",
        "        \n",
        "        env.reset()\n",
        "        state = env.get_state()\n",
        "        print(\"========================================================================================================\")\n",
        "        \n",
        "        for pas in count():\n",
        "            if param.render: env.render()\n",
        "            if episode > param.astar : action = agent.select_action(state,policy_net)\n",
        "            else:action = env.Astar()\n",
        "\n",
        "            reward,done = env.take_action(action)\n",
        "            next_state = env.get_state()\n",
        "            memory.add(Experience(state,action,reward,next_state,done),policy_net.model,target_net.model,param.gamma)\n",
        "            state = next_state\n",
        "            policy_net.fitting(target_net.model,param.gamma,param.batch_size,memory,param.batchsize)\n",
        "                \n",
        "            if pas % 25 ==0 : print(f\"pas numéro : {pas} :: state : {env.state[0]} | {env.state[1]} :: reward : {reward} :: policy = {tf.squeeze(policy_net.model(tf.expand_dims(state,0))).numpy()}\")\n",
        "\n",
        "            if env.done:\n",
        "                target_net.tautransfer(policy_net.model)\n",
        "                if (reward==1000):\n",
        "                    end+=1\n",
        "                    endingpoint.append(1)\n",
        "                else:\n",
        "                    endingpoint.append(0)\n",
        "\n",
        "                episode_len.append(pas)\n",
        "                move_avg = plot(episode_len, param.M,0)\n",
        "                print(f\"Episode : {episode+1}\\nmoyenne mobile des {param.M} épisodes : {move_avg[-1]}\\nvraie fin : {end} \\nsoit : {(end/(episode+1))*100} % \" )\n",
        "                break\n",
        "            if not param.tau_update:\n",
        "                if episode%param.target_update==0:target_net.transfer(policy_net.model)\n",
        "    \n",
        "    if param.save:policy_net.save()\n",
        "\n",
        "\n",
        "    _ = plot(endingpoint,param.M2,1)"
      ],
      "execution_count": null,
      "outputs": [
        {
          "output_type": "display_data",
          "data": {
            "image/png": "[encoded data removed]",
            "text/plain": [
              "<Figure size 432x288 with 1 Axes>"
            ]
          },
          "metadata": {
            "tags": [],
            "needs_background": "light"
          }
        },
        {
          "output_type": "stream",
          "text": [
            "Episode : 163\n",
            "moyenne mobile des 5 épisodes : 100.6\n",
            "vraie fin : 65 \n",
            "soit : 39.87730061349693 % \n",
            "========================================================================================================\n",
            "pas numéro : 0 :: state : 0 | 1 :: reward : -0.009611687812379853 :: policy = [-0.06386743  0.33974713 -0.21414529 -0.11941838]\n",
            "pas numéro : 25 :: state : 0 | 26 :: reward : -0.009611687812379853 :: policy = [-0.06386743  0.33974713 -0.21414529 -0.11941838]\n",
            "pas numéro : 50 :: state : 0 | 51 :: reward : -0.009611687812379853 :: policy = [-0.06386743  0.33974713 -0.21414529 -0.11941838]\n",
            "pas numéro : 75 :: state : 0 | 76 :: reward : -0.009611687812379853 :: policy = [-0.06386743  0.33974713 -0.21414529 -0.11941838]\n"
          ],
          "name": "stdout"
        },
        {
          "output_type": "error",
          "ename": "KeyboardInterrupt",
          "evalue": "ignored",
          "traceback": [
            "\u001b[0;31m---------------------------------------------------------------------------\u001b[0m",
            "\u001b[0;31mKeyboardInterrupt\u001b[0m                         Traceback (most recent call last)",
            "\u001b[0;32m<ipython-input-13-5b66ae0e9bb0>\u001b[0m in \u001b[0;36m<module>\u001b[0;34m()\u001b[0m\n\u001b[1;32m     30\u001b[0m             \u001b[0mmemory\u001b[0m\u001b[0;34m.\u001b[0m\u001b[0madd\u001b[0m\u001b[0;34m(\u001b[0m\u001b[0mExperience\u001b[0m\u001b[0;34m(\u001b[0m\u001b[0mstate\u001b[0m\u001b[0;34m,\u001b[0m\u001b[0maction\u001b[0m\u001b[0;34m,\u001b[0m\u001b[0mreward\u001b[0m\u001b[0;34m,\u001b[0m\u001b[0mnext_state\u001b[0m\u001b[0;34m,\u001b[0m\u001b[0mdone\u001b[0m\u001b[0;34m)\u001b[0m\u001b[0;34m,\u001b[0m\u001b[0mpolicy_net\u001b[0m\u001b[0;34m.\u001b[0m\u001b[0mmodel\u001b[0m\u001b[0;34m,\u001b[0m\u001b[0mtarget_net\u001b[0m\u001b[0;34m.\u001b[0m\u001b[0mmodel\u001b[0m\u001b[0;34m,\u001b[0m\u001b[0mparam\u001b[0m\u001b[0;34m.\u001b[0m\u001b[0mgamma\u001b[0m\u001b[0;34m)\u001b[0m\u001b[0;34m\u001b[0m\u001b[0;34m\u001b[0m\u001b[0m\n\u001b[1;32m     31\u001b[0m             \u001b[0mstate\u001b[0m \u001b[0;34m=\u001b[0m \u001b[0mnext_state\u001b[0m\u001b[0;34m\u001b[0m\u001b[0;34m\u001b[0m\u001b[0m\n\u001b[0;32m---> 32\u001b[0;31m             \u001b[0mpolicy_net\u001b[0m\u001b[0;34m.\u001b[0m\u001b[0mfitting\u001b[0m\u001b[0;34m(\u001b[0m\u001b[0mtarget_net\u001b[0m\u001b[0;34m.\u001b[0m\u001b[0mmodel\u001b[0m\u001b[0;34m,\u001b[0m\u001b[0mparam\u001b[0m\u001b[0;34m.\u001b[0m\u001b[0mgamma\u001b[0m\u001b[0;34m,\u001b[0m\u001b[0mparam\u001b[0m\u001b[0;34m.\u001b[0m\u001b[0mbatch_size\u001b[0m\u001b[0;34m,\u001b[0m\u001b[0mmemory\u001b[0m\u001b[0;34m,\u001b[0m\u001b[0mparam\u001b[0m\u001b[0;34m.\u001b[0m\u001b[0mbatchsize\u001b[0m\u001b[0;34m)\u001b[0m\u001b[0;34m\u001b[0m\u001b[0;34m\u001b[0m\u001b[0m\n\u001b[0m\u001b[1;32m     33\u001b[0m \u001b[0;34m\u001b[0m\u001b[0m\n\u001b[1;32m     34\u001b[0m             \u001b[0;32mif\u001b[0m \u001b[0mpas\u001b[0m \u001b[0;34m%\u001b[0m \u001b[0;36m25\u001b[0m \u001b[0;34m==\u001b[0m\u001b[0;36m0\u001b[0m \u001b[0;34m:\u001b[0m \u001b[0mprint\u001b[0m\u001b[0;34m(\u001b[0m\u001b[0;34mf\"pas numéro : {pas} :: state : {env.state[0]} | {env.state[1]} :: reward : {reward} :: policy = {tf.squeeze(policy_net.model(tf.expand_dims(state,0))).numpy()}\"\u001b[0m\u001b[0;34m)\u001b[0m\u001b[0;34m\u001b[0m\u001b[0;34m\u001b[0m\u001b[0m\n",
            "\u001b[0;32m<ipython-input-5-b354a361e32c>\u001b[0m in \u001b[0;36mfitting\u001b[0;34m(self, target_net, gammaparam, batchsize, memory, batch_size)\u001b[0m\n\u001b[1;32m    102\u001b[0m             \u001b[0mmemory\u001b[0m\u001b[0;34m.\u001b[0m\u001b[0mupdate\u001b[0m\u001b[0;34m(\u001b[0m\u001b[0midx\u001b[0m\u001b[0;34m,\u001b[0m \u001b[0merreur\u001b[0m\u001b[0;34m[\u001b[0m\u001b[0mi\u001b[0m\u001b[0;34m]\u001b[0m\u001b[0;34m)\u001b[0m\u001b[0;34m\u001b[0m\u001b[0;34m\u001b[0m\u001b[0m\n\u001b[1;32m    103\u001b[0m \u001b[0;34m\u001b[0m\u001b[0m\n\u001b[0;32m--> 104\u001b[0;31m         \u001b[0mself\u001b[0m\u001b[0;34m.\u001b[0m\u001b[0mmodel\u001b[0m\u001b[0;34m.\u001b[0m\u001b[0mfit\u001b[0m\u001b[0;34m(\u001b[0m\u001b[0mstates\u001b[0m\u001b[0;34m,\u001b[0m \u001b[0mtf\u001b[0m\u001b[0;34m.\u001b[0m\u001b[0mconstant\u001b[0m\u001b[0;34m(\u001b[0m\u001b[0mtarget\u001b[0m\u001b[0;34m)\u001b[0m\u001b[0;34m,\u001b[0m \u001b[0mbatch_size\u001b[0m\u001b[0;34m=\u001b[0m\u001b[0mbatch_size\u001b[0m\u001b[0;34m,\u001b[0m\u001b[0msample_weight\u001b[0m\u001b[0;34m=\u001b[0m\u001b[0;32mNone\u001b[0m\u001b[0;34m,\u001b[0m\u001b[0mverbose\u001b[0m\u001b[0;34m=\u001b[0m\u001b[0;36m0\u001b[0m\u001b[0;34m,\u001b[0m \u001b[0mepochs\u001b[0m\u001b[0;34m=\u001b[0m\u001b[0;36m3\u001b[0m\u001b[0;34m)\u001b[0m\u001b[0;34m\u001b[0m\u001b[0;34m\u001b[0m\u001b[0m\n\u001b[0m\u001b[1;32m    105\u001b[0m \u001b[0;34m\u001b[0m\u001b[0m\n\u001b[1;32m    106\u001b[0m \u001b[0;34m\u001b[0m\u001b[0m\n",
            "\u001b[0;32m/usr/local/lib/python3.7/dist-packages/tensorflow/python/keras/engine/training.py\u001b[0m in \u001b[0;36mfit\u001b[0;34m(self, x, y, batch_size, epochs, verbose, callbacks, validation_split, validation_data, shuffle, class_weight, sample_weight, initial_epoch, steps_per_epoch, validation_steps, validation_batch_size, validation_freq, max_queue_size, workers, use_multiprocessing)\u001b[0m\n\u001b[1;32m   1227\u001b[0m           \u001b[0mepoch_logs\u001b[0m\u001b[0;34m.\u001b[0m\u001b[0mupdate\u001b[0m\u001b[0;34m(\u001b[0m\u001b[0mval_logs\u001b[0m\u001b[0;34m)\u001b[0m\u001b[0;34m\u001b[0m\u001b[0;34m\u001b[0m\u001b[0m\n\u001b[1;32m   1228\u001b[0m \u001b[0;34m\u001b[0m\u001b[0m\n\u001b[0;32m-> 1229\u001b[0;31m         \u001b[0mcallbacks\u001b[0m\u001b[0;34m.\u001b[0m\u001b[0mon_epoch_end\u001b[0m\u001b[0;34m(\u001b[0m\u001b[0mepoch\u001b[0m\u001b[0;34m,\u001b[0m \u001b[0mepoch_logs\u001b[0m\u001b[0;34m)\u001b[0m\u001b[0;34m\u001b[0m\u001b[0;34m\u001b[0m\u001b[0m\n\u001b[0m\u001b[1;32m   1230\u001b[0m         \u001b[0mtraining_logs\u001b[0m \u001b[0;34m=\u001b[0m \u001b[0mepoch_logs\u001b[0m\u001b[0;34m\u001b[0m\u001b[0;34m\u001b[0m\u001b[0m\n\u001b[1;32m   1231\u001b[0m         \u001b[0;32mif\u001b[0m \u001b[0mself\u001b[0m\u001b[0;34m.\u001b[0m\u001b[0mstop_training\u001b[0m\u001b[0;34m:\u001b[0m\u001b[0;34m\u001b[0m\u001b[0;34m\u001b[0m\u001b[0m\n",
            "\u001b[0;32m/usr/local/lib/python3.7/dist-packages/tensorflow/python/keras/callbacks.py\u001b[0m in \u001b[0;36mon_epoch_end\u001b[0;34m(self, epoch, logs)\u001b[0m\n\u001b[1;32m    431\u001b[0m           \u001b[0mare\u001b[0m \u001b[0mprefixed\u001b[0m \u001b[0;32mwith\u001b[0m\u001b[0;31m \u001b[0m\u001b[0;31m`\u001b[0m\u001b[0mval_\u001b[0m\u001b[0;31m`\u001b[0m\u001b[0;34m.\u001b[0m\u001b[0;34m\u001b[0m\u001b[0;34m\u001b[0m\u001b[0m\n\u001b[1;32m    432\u001b[0m     \"\"\"\n\u001b[0;32m--> 433\u001b[0;31m     \u001b[0mlogs\u001b[0m \u001b[0;34m=\u001b[0m \u001b[0mself\u001b[0m\u001b[0;34m.\u001b[0m\u001b[0m_process_logs\u001b[0m\u001b[0;34m(\u001b[0m\u001b[0mlogs\u001b[0m\u001b[0;34m)\u001b[0m\u001b[0;34m\u001b[0m\u001b[0;34m\u001b[0m\u001b[0m\n\u001b[0m\u001b[1;32m    434\u001b[0m     \u001b[0;32mfor\u001b[0m \u001b[0mcallback\u001b[0m \u001b[0;32min\u001b[0m \u001b[0mself\u001b[0m\u001b[0;34m.\u001b[0m\u001b[0mcallbacks\u001b[0m\u001b[0;34m:\u001b[0m\u001b[0;34m\u001b[0m\u001b[0;34m\u001b[0m\u001b[0m\n\u001b[1;32m    435\u001b[0m       \u001b[0mcallback\u001b[0m\u001b[0;34m.\u001b[0m\u001b[0mon_epoch_end\u001b[0m\u001b[0;34m(\u001b[0m\u001b[0mepoch\u001b[0m\u001b[0;34m,\u001b[0m \u001b[0mlogs\u001b[0m\u001b[0;34m)\u001b[0m\u001b[0;34m\u001b[0m\u001b[0;34m\u001b[0m\u001b[0m\n",
            "\u001b[0;32m/usr/local/lib/python3.7/dist-packages/tensorflow/python/keras/callbacks.py\u001b[0m in \u001b[0;36m_process_logs\u001b[0;34m(self, logs, is_batch_hook)\u001b[0m\n\u001b[1;32m    290\u001b[0m     \u001b[0;32mif\u001b[0m \u001b[0mis_batch_hook\u001b[0m \u001b[0;32mand\u001b[0m \u001b[0mself\u001b[0m\u001b[0;34m.\u001b[0m\u001b[0m_batch_hooks_support_tf_logs\u001b[0m\u001b[0;34m:\u001b[0m\u001b[0;34m\u001b[0m\u001b[0;34m\u001b[0m\u001b[0m\n\u001b[1;32m    291\u001b[0m       \u001b[0;32mreturn\u001b[0m \u001b[0mlogs\u001b[0m\u001b[0;34m\u001b[0m\u001b[0;34m\u001b[0m\u001b[0m\n\u001b[0;32m--> 292\u001b[0;31m     \u001b[0;32mreturn\u001b[0m \u001b[0mtf_utils\u001b[0m\u001b[0;34m.\u001b[0m\u001b[0msync_to_numpy_or_python_type\u001b[0m\u001b[0;34m(\u001b[0m\u001b[0mlogs\u001b[0m\u001b[0;34m)\u001b[0m\u001b[0;34m\u001b[0m\u001b[0;34m\u001b[0m\u001b[0m\n\u001b[0m\u001b[1;32m    293\u001b[0m \u001b[0;34m\u001b[0m\u001b[0m\n\u001b[1;32m    294\u001b[0m   \u001b[0;32mdef\u001b[0m \u001b[0mappend\u001b[0m\u001b[0;34m(\u001b[0m\u001b[0mself\u001b[0m\u001b[0;34m,\u001b[0m \u001b[0mcallback\u001b[0m\u001b[0;34m)\u001b[0m\u001b[0;34m:\u001b[0m\u001b[0;34m\u001b[0m\u001b[0;34m\u001b[0m\u001b[0m\n",
            "\u001b[0;32m/usr/local/lib/python3.7/dist-packages/tensorflow/python/keras/utils/tf_utils.py\u001b[0m in \u001b[0;36msync_to_numpy_or_python_type\u001b[0;34m(tensors)\u001b[0m\n\u001b[1;32m    517\u001b[0m     \u001b[0;32mreturn\u001b[0m \u001b[0mt\u001b[0m  \u001b[0;31m# Don't turn ragged or sparse tensors to NumPy.\u001b[0m\u001b[0;34m\u001b[0m\u001b[0;34m\u001b[0m\u001b[0m\n\u001b[1;32m    518\u001b[0m \u001b[0;34m\u001b[0m\u001b[0m\n\u001b[0;32m--> 519\u001b[0;31m   \u001b[0;32mreturn\u001b[0m \u001b[0mnest\u001b[0m\u001b[0;34m.\u001b[0m\u001b[0mmap_structure\u001b[0m\u001b[0;34m(\u001b[0m\u001b[0m_to_single_numpy_or_python_type\u001b[0m\u001b[0;34m,\u001b[0m \u001b[0mtensors\u001b[0m\u001b[0;34m)\u001b[0m\u001b[0;34m\u001b[0m\u001b[0;34m\u001b[0m\u001b[0m\n\u001b[0m\u001b[1;32m    520\u001b[0m \u001b[0;34m\u001b[0m\u001b[0m\n\u001b[1;32m    521\u001b[0m \u001b[0;34m\u001b[0m\u001b[0m\n",
            "\u001b[0;32m/usr/local/lib/python3.7/dist-packages/tensorflow/python/util/nest.py\u001b[0m in \u001b[0;36mmap_structure\u001b[0;34m(func, *structure, **kwargs)\u001b[0m\n\u001b[1;32m    866\u001b[0m   return pack_sequence_as(\n\u001b[1;32m    867\u001b[0m       \u001b[0mstructure\u001b[0m\u001b[0;34m[\u001b[0m\u001b[0;36m0\u001b[0m\u001b[0;34m]\u001b[0m\u001b[0;34m,\u001b[0m \u001b[0;34m[\u001b[0m\u001b[0mfunc\u001b[0m\u001b[0;34m(\u001b[0m\u001b[0;34m*\u001b[0m\u001b[0mx\u001b[0m\u001b[0;34m)\u001b[0m \u001b[0;32mfor\u001b[0m \u001b[0mx\u001b[0m \u001b[0;32min\u001b[0m \u001b[0mentries\u001b[0m\u001b[0;34m]\u001b[0m\u001b[0;34m,\u001b[0m\u001b[0;34m\u001b[0m\u001b[0;34m\u001b[0m\u001b[0m\n\u001b[0;32m--> 868\u001b[0;31m       expand_composites=expand_composites)\n\u001b[0m\u001b[1;32m    869\u001b[0m \u001b[0;34m\u001b[0m\u001b[0m\n\u001b[1;32m    870\u001b[0m \u001b[0;34m\u001b[0m\u001b[0m\n",
            "\u001b[0;32m/usr/local/lib/python3.7/dist-packages/tensorflow/python/util/nest.py\u001b[0m in \u001b[0;36mpack_sequence_as\u001b[0;34m(structure, flat_sequence, expand_composites)\u001b[0m\n\u001b[1;32m    753\u001b[0m     \u001b[0mTypeError\u001b[0m\u001b[0;34m:\u001b[0m\u001b[0;31m \u001b[0m\u001b[0;31m`\u001b[0m\u001b[0mstructure\u001b[0m\u001b[0;31m`\u001b[0m \u001b[0;32mis\u001b[0m \u001b[0;32mor\u001b[0m \u001b[0mcontains\u001b[0m \u001b[0ma\u001b[0m \u001b[0mdict\u001b[0m \u001b[0;32mwith\u001b[0m \u001b[0mnon\u001b[0m\u001b[0;34m-\u001b[0m\u001b[0msortable\u001b[0m \u001b[0mkeys\u001b[0m\u001b[0;34m.\u001b[0m\u001b[0;34m\u001b[0m\u001b[0;34m\u001b[0m\u001b[0m\n\u001b[1;32m    754\u001b[0m   \"\"\"\n\u001b[0;32m--> 755\u001b[0;31m   \u001b[0;32mreturn\u001b[0m \u001b[0m_pack_sequence_as\u001b[0m\u001b[0;34m(\u001b[0m\u001b[0mstructure\u001b[0m\u001b[0;34m,\u001b[0m \u001b[0mflat_sequence\u001b[0m\u001b[0;34m,\u001b[0m \u001b[0mexpand_composites\u001b[0m\u001b[0;34m)\u001b[0m\u001b[0;34m\u001b[0m\u001b[0;34m\u001b[0m\u001b[0m\n\u001b[0m\u001b[1;32m    756\u001b[0m \u001b[0;34m\u001b[0m\u001b[0m\n\u001b[1;32m    757\u001b[0m \u001b[0;34m\u001b[0m\u001b[0m\n",
            "\u001b[0;32m/usr/local/lib/python3.7/dist-packages/tensorflow/python/util/nest.py\u001b[0m in \u001b[0;36m_pack_sequence_as\u001b[0;34m(structure, flat_sequence, expand_composites, sequence_fn)\u001b[0m\n\u001b[1;32m    639\u001b[0m           \u001b[0;34m\"flat_sequence had %d elements.  Structure: %s, flat_sequence: %s.\"\u001b[0m \u001b[0;34m%\u001b[0m\u001b[0;34m\u001b[0m\u001b[0;34m\u001b[0m\u001b[0m\n\u001b[1;32m    640\u001b[0m           (len(flat_structure), len(flat_sequence), structure, flat_sequence))\n\u001b[0;32m--> 641\u001b[0;31m   \u001b[0;32mreturn\u001b[0m \u001b[0msequence_fn\u001b[0m\u001b[0;34m(\u001b[0m\u001b[0mstructure\u001b[0m\u001b[0;34m,\u001b[0m \u001b[0mpacked\u001b[0m\u001b[0;34m)\u001b[0m\u001b[0;34m\u001b[0m\u001b[0;34m\u001b[0m\u001b[0m\n\u001b[0m\u001b[1;32m    642\u001b[0m \u001b[0;34m\u001b[0m\u001b[0m\n\u001b[1;32m    643\u001b[0m \u001b[0;34m\u001b[0m\u001b[0m\n",
            "\u001b[0;32m/usr/local/lib/python3.7/dist-packages/tensorflow/python/util/nest.py\u001b[0m in \u001b[0;36m_sequence_like\u001b[0;34m(instance, args)\u001b[0m\n\u001b[1;32m    159\u001b[0m     \u001b[0;31m# ordered and plain dicts (e.g., flattening a dict but using a\u001b[0m\u001b[0;34m\u001b[0m\u001b[0;34m\u001b[0m\u001b[0;34m\u001b[0m\u001b[0m\n\u001b[1;32m    160\u001b[0m     \u001b[0;31m# corresponding `OrderedDict` to pack it back).\u001b[0m\u001b[0;34m\u001b[0m\u001b[0;34m\u001b[0m\u001b[0;34m\u001b[0m\u001b[0m\n\u001b[0;32m--> 161\u001b[0;31m     \u001b[0mresult\u001b[0m \u001b[0;34m=\u001b[0m \u001b[0mdict\u001b[0m\u001b[0;34m(\u001b[0m\u001b[0mzip\u001b[0m\u001b[0;34m(\u001b[0m\u001b[0m_sorted\u001b[0m\u001b[0;34m(\u001b[0m\u001b[0minstance\u001b[0m\u001b[0;34m)\u001b[0m\u001b[0;34m,\u001b[0m \u001b[0margs\u001b[0m\u001b[0;34m)\u001b[0m\u001b[0;34m)\u001b[0m\u001b[0;34m\u001b[0m\u001b[0;34m\u001b[0m\u001b[0m\n\u001b[0m\u001b[1;32m    162\u001b[0m     \u001b[0minstance_type\u001b[0m \u001b[0;34m=\u001b[0m \u001b[0mtype\u001b[0m\u001b[0;34m(\u001b[0m\u001b[0minstance\u001b[0m\u001b[0;34m)\u001b[0m\u001b[0;34m\u001b[0m\u001b[0;34m\u001b[0m\u001b[0m\n\u001b[1;32m    163\u001b[0m     \u001b[0;32mif\u001b[0m \u001b[0minstance_type\u001b[0m \u001b[0;34m==\u001b[0m \u001b[0m_collections\u001b[0m\u001b[0;34m.\u001b[0m\u001b[0mdefaultdict\u001b[0m\u001b[0;34m:\u001b[0m\u001b[0;34m\u001b[0m\u001b[0;34m\u001b[0m\u001b[0m\n",
            "\u001b[0;32m/usr/local/lib/python3.7/dist-packages/tensorflow/python/util/nest.py\u001b[0m in \u001b[0;36m_sorted\u001b[0;34m(dict_)\u001b[0m\n\u001b[1;32m     98\u001b[0m   \u001b[0;34m\"\"\"Returns a sorted list of the dict keys, with error if keys not sortable.\"\"\"\u001b[0m\u001b[0;34m\u001b[0m\u001b[0;34m\u001b[0m\u001b[0m\n\u001b[1;32m     99\u001b[0m   \u001b[0;32mtry\u001b[0m\u001b[0;34m:\u001b[0m\u001b[0;34m\u001b[0m\u001b[0;34m\u001b[0m\u001b[0m\n\u001b[0;32m--> 100\u001b[0;31m     \u001b[0;32mreturn\u001b[0m \u001b[0msorted\u001b[0m\u001b[0;34m(\u001b[0m\u001b[0mdict_\u001b[0m\u001b[0;34m.\u001b[0m\u001b[0mkeys\u001b[0m\u001b[0;34m(\u001b[0m\u001b[0;34m)\u001b[0m\u001b[0;34m)\u001b[0m\u001b[0;34m\u001b[0m\u001b[0;34m\u001b[0m\u001b[0m\n\u001b[0m\u001b[1;32m    101\u001b[0m   \u001b[0;32mexcept\u001b[0m \u001b[0mTypeError\u001b[0m\u001b[0;34m:\u001b[0m\u001b[0;34m\u001b[0m\u001b[0;34m\u001b[0m\u001b[0m\n\u001b[1;32m    102\u001b[0m     \u001b[0;32mraise\u001b[0m \u001b[0mTypeError\u001b[0m\u001b[0;34m(\u001b[0m\u001b[0;34m\"nest only supports dicts with sortable keys.\"\u001b[0m\u001b[0;34m)\u001b[0m\u001b[0;34m\u001b[0m\u001b[0;34m\u001b[0m\u001b[0m\n",
            "\u001b[0;31mKeyboardInterrupt\u001b[0m: "
          ]
        }
      ]
    }
  ]
}